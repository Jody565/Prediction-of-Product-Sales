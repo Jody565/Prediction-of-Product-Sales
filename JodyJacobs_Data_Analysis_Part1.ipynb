{
  "nbformat": 4,
  "nbformat_minor": 0,
  "metadata": {
    "colab": {
      "provenance": [],
      "mount_file_id": "1UwzXl9zu3VU-3NzRBZTo8HdgZ3g7NQij",
      "authorship_tag": "ABX9TyP3rCzPYmJXAy46KZVC2wXD",
      "include_colab_link": true
    },
    "kernelspec": {
      "name": "python3",
      "display_name": "Python 3"
    },
    "language_info": {
      "name": "python"
    }
  },
  "cells": [
    {
      "cell_type": "markdown",
      "metadata": {
        "id": "view-in-github",
        "colab_type": "text"
      },
      "source": [
        "<a href=\"https://colab.research.google.com/github/Jody565/Prediction-of-Product-Sales/blob/main/JodyJacobs_Project1_Resub.ipynb\" target=\"_parent\"><img src=\"https://colab.research.google.com/assets/colab-badge.svg\" alt=\"Open In Colab\"/></a>"
      ]
    },
    {
      "cell_type": "markdown",
      "source": [
        "# Prediction of Product Sales"
      ],
      "metadata": {
        "id": "ys2595BHPKck"
      }
    },
    {
      "cell_type": "markdown",
      "source": [
        "- Author: Jody Jacobs"
      ],
      "metadata": {
        "id": "ZHkIYsOQPgGm"
      }
    },
    {
      "cell_type": "markdown",
      "source": [
        "## Project Overview"
      ],
      "metadata": {
        "id": "c4AyuiZ6P2jY"
      }
    },
    {
      "cell_type": "markdown",
      "source": [
        "\n",
        "## Load and Inspect Data\n"
      ],
      "metadata": {
        "id": "P4sh-aUAP9BW"
      }
    },
    {
      "cell_type": "markdown",
      "source": [
        "## Clean Data"
      ],
      "metadata": {
        "id": "70-FiefgQJUI"
      }
    },
    {
      "cell_type": "markdown",
      "source": [
        "## Exploratory Data Analysis"
      ],
      "metadata": {
        "id": "r4X76s7EQRsm"
      }
    },
    {
      "cell_type": "markdown",
      "source": [
        "## Explanatory Data Analysis"
      ],
      "metadata": {
        "id": "u2x-CcjDQZf1"
      }
    }
  ]
}
